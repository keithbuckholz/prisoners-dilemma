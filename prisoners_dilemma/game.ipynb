{
 "cells": [
  {
   "cell_type": "code",
   "execution_count": 14,
   "metadata": {},
   "outputs": [],
   "source": [
    "from prisoners_dilemma import bots\n",
    "from prisoners_dilemma.game import dilemma_tournament, define_players\n",
    "from bots import *"
   ]
  },
  {
   "cell_type": "code",
   "execution_count": 15,
   "metadata": {},
   "outputs": [
    {
     "name": "stdout",
     "output_type": "stream",
     "text": [
      "always_cooperate: 944\n",
      "always_defect: 888\n",
      "grudge: 1361\n",
      "random: 630\n",
      "tester: 906\n",
      "tit_for_tat: 1316\n",
      "weighted_guess: 1425\n"
     ]
    },
    {
     "data": {
      "text/plain": [
       "<prisoners_dilemma.game.game.dilemma_tournament at 0x7fcdf91da580>"
      ]
     },
     "execution_count": 15,
     "metadata": {},
     "output_type": "execute_result"
    }
   ],
   "source": [
    "list_of_players = define_players()\n",
    "dilemma_tournament(list_of_players).tournament()"
   ]
  },
  {
   "cell_type": "code",
   "execution_count": null,
   "metadata": {},
   "outputs": [],
   "source": []
  }
 ],
 "metadata": {
  "kernelspec": {
   "display_name": "Python (a330)",
   "language": "python",
   "name": "a330"
  },
  "language_info": {
   "codemirror_mode": {
    "name": "ipython",
    "version": 3
   },
   "file_extension": ".py",
   "mimetype": "text/x-python",
   "name": "python",
   "nbconvert_exporter": "python",
   "pygments_lexer": "ipython3",
   "version": "3.9.18"
  }
 },
 "nbformat": 4,
 "nbformat_minor": 2
}
