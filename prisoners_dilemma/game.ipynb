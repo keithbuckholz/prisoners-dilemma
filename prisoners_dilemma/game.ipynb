{
 "cells": [
  {
   "cell_type": "code",
   "execution_count": 8,
   "metadata": {},
   "outputs": [
    {
     "ename": "ModuleNotFoundError",
     "evalue": "No module named 'prisoners_dilemma'",
     "output_type": "error",
     "traceback": [
      "\u001b[0;31m---------------------------------------------------------------------------\u001b[0m",
      "\u001b[0;31mModuleNotFoundError\u001b[0m                       Traceback (most recent call last)",
      "Cell \u001b[0;32mIn[8], line 1\u001b[0m\n\u001b[0;32m----> 1\u001b[0m \u001b[38;5;28;01mfrom\u001b[39;00m \u001b[38;5;21;01mprisoners_dilemma\u001b[39;00m \u001b[38;5;28;01mimport\u001b[39;00m bots\n\u001b[1;32m      2\u001b[0m \u001b[38;5;28;01mfrom\u001b[39;00m \u001b[38;5;21;01mprisoners_dilemma\u001b[39;00m\u001b[38;5;21;01m.\u001b[39;00m\u001b[38;5;21;01mgame\u001b[39;00m \u001b[38;5;28;01mimport\u001b[39;00m prisoners_dilemma, define_players\n",
      "\u001b[0;31mModuleNotFoundError\u001b[0m: No module named 'prisoners_dilemma'"
     ]
    }
   ],
   "source": [
    "from prisoners_dilemma import bots\n",
    "from prisoners_dilemma.game import prisoners_dilemma, define_players"
   ]
  },
  {
   "cell_type": "code",
   "execution_count": 2,
   "metadata": {},
   "outputs": [
    {
     "name": "stdout",
     "output_type": "stream",
     "text": [
      "always_cooperate: 891\n",
      "always_defect: 912\n",
      "grudge: 1481\n",
      "random: 626\n",
      "tester: 888\n",
      "tit_for_tat: 1374\n",
      "weighted_guess: 1336\n"
     ]
    },
    {
     "data": {
      "text/plain": [
       "<game.prisoners_dilemna at 0x7fab497c8310>"
      ]
     },
     "execution_count": 2,
     "metadata": {},
     "output_type": "execute_result"
    }
   ],
   "source": [
    "prisoners_dilemna(list_of_players).tournament()"
   ]
  },
  {
   "cell_type": "code",
   "execution_count": null,
   "metadata": {},
   "outputs": [],
   "source": [
    "print(prisoners_dilemma(list_of_players).matchup(tit_for_tat, always_cooperate))"
   ]
  },
  {
   "cell_type": "code",
   "execution_count": null,
   "metadata": {},
   "outputs": [],
   "source": []
  }
 ],
 "metadata": {
  "kernelspec": {
   "display_name": "Python (a330)",
   "language": "python",
   "name": "a330"
  },
  "language_info": {
   "codemirror_mode": {
    "name": "ipython",
    "version": 3
   },
   "file_extension": ".py",
   "mimetype": "text/x-python",
   "name": "python",
   "nbconvert_exporter": "python",
   "pygments_lexer": "ipython3",
   "version": "3.9.18"
  }
 },
 "nbformat": 4,
 "nbformat_minor": 2
}
